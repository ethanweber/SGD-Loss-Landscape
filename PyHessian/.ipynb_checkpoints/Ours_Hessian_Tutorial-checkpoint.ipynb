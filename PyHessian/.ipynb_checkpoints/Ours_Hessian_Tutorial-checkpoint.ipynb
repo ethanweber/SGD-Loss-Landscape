{
 "cells": [
  {
   "cell_type": "markdown",
   "metadata": {},
   "source": [
    "Authors: Zhewei Yao <https://github.com/yaozhewei>, Amir Gholami <http://amirgholami.org/>\n",
    "\n",
    "\n",
    "This tutorial shows how to compute the Hessian information using (randomized) numerical linear algebra for both explicit Hessian (the matrix is given) as well as implicit Hessian (the matrix is ungiven).\n",
    "\n",
    "We'll start by doing the necessary imports:"
   ]
  },
  {
   "cell_type": "code",
   "execution_count": 63,
   "metadata": {},
   "outputs": [],
   "source": [
    "%load_ext autoreload\n",
    "%autoreload 2"
   ]
  },
  {
   "cell_type": "code",
   "execution_count": 1,
   "metadata": {},
   "outputs": [],
   "source": [
    "import numpy as np\n",
    "import torch \n",
    "from torchvision import datasets, transforms\n",
    "from utils import * # get the dataset\n",
    "from pyhessian import hessian # Hessian computation\n",
    "from density_plot import get_esd_plot # ESD plot\n",
    "from pytorchcv.model_provider import get_model as ptcv_get_model # model\n",
    "\n",
    "import matplotlib.pyplot as plt\n",
    "%matplotlib inline"
   ]
  },
  {
   "cell_type": "code",
   "execution_count": 2,
   "metadata": {},
   "outputs": [],
   "source": [
    "# enable cuda devices\n",
    "import os\n",
    "os.environ[\"CUDA_DEVICE_ORDER\"]=\"PCI_BUS_ID\"\n",
    "os.environ[\"CUDA_VISIBLE_DEVICES\"]=\"0\""
   ]
  },
  {
   "cell_type": "markdown",
   "metadata": {},
   "source": [
    "## Example 1: Power Iteration with Numpy\n",
    "\n",
    "The following part shows how to use power iteration to get the top eigenvalue of a matrix without explicitly having access to it in numpy. We start by creating a random matrix B, compute its ground truth eigenvalues using numpy, and then compare the results with matrix-free power iteration (which does not need direct access to the matrix)."
   ]
  },
  {
   "cell_type": "code",
   "execution_count": 3,
   "metadata": {},
   "outputs": [],
   "source": [
    "n = 10 # the matrix size\n",
    "\n",
    "# generate a random matrix\n",
    "A = np.random.randn(n, n)\n",
    "B = A @ A.T"
   ]
  },
  {
   "cell_type": "code",
   "execution_count": 4,
   "metadata": {},
   "outputs": [
    {
     "data": {
      "text/plain": [
       "(10, 10)"
      ]
     },
     "execution_count": 4,
     "metadata": {},
     "output_type": "execute_result"
    }
   ],
   "source": [
    "A.shape"
   ]
  },
  {
   "cell_type": "markdown",
   "metadata": {},
   "source": [
    "Now let's use numpy to compute the ground truth eigenvalues. We will then check the results with this."
   ]
  },
  {
   "cell_type": "code",
   "execution_count": 5,
   "metadata": {},
   "outputs": [
    {
     "name": "stdout",
     "output_type": "stream",
     "text": [
      "The top eigenvalue of B is 34.9974\n"
     ]
    }
   ],
   "source": [
    "# use np.eigs to get the top eigenvalue of B\n",
    "eigs, _ = np.linalg.eig(B)\n",
    "\n",
    "print(\"The top eigenvalue of B is %.4f\"%np.sort(eigs)[-1])"
   ]
  },
  {
   "cell_type": "markdown",
   "metadata": {},
   "source": [
    "Now let's try to comptue the top eigenvalue of B without explicitly accessing B. To do so, we will use a method called Power Iteration:\n",
    "\n",
    "https://en.wikipedia.org/wiki/Power_iteration\n",
    "\n",
    "The algorithm is very simple and efficiet to compute the top eigenvalue:\n",
    "$$v_{i+1} = \\frac{Bv_i}{\\|Bv_i\\|}.$$\n",
    "\n",
    "As such, we only need to have access to the *application* of B to a given vector $v_i$ and not the matrix B itself. This application is commonly referred to as *matvec* in literature."
   ]
  },
  {
   "cell_type": "code",
   "execution_count": 6,
   "metadata": {},
   "outputs": [
    {
     "name": "stdout",
     "output_type": "stream",
     "text": [
      "Step  1 current estimated top eigvalue: 12.8411\n",
      "Step  2 current estimated top eigvalue: 19.0003\n",
      "Step  3 current estimated top eigvalue: 19.6737\n",
      "Step  4 current estimated top eigvalue: 20.7202\n",
      "Step  5 current estimated top eigvalue: 23.2213\n",
      "Step  6 current estimated top eigvalue: 27.5033\n",
      "Step  7 current estimated top eigvalue: 31.5788\n",
      "Step  8 current estimated top eigvalue: 33.7694\n",
      "Step  9 current estimated top eigvalue: 34.6016\n",
      "Step 10 current estimated top eigvalue: 34.8746\n",
      "Step 11 current estimated top eigvalue: 34.9598\n",
      "Step 12 current estimated top eigvalue: 34.9859\n",
      "Step 13 current estimated top eigvalue: 34.9939\n",
      "Step 14 current estimated top eigvalue: 34.9964\n",
      "Step 15 current estimated top eigvalue: 34.9971\n",
      "Step 16 current estimated top eigvalue: 34.9973\n",
      "Step 17 current estimated top eigvalue: 34.9974\n",
      "Step 18 current estimated top eigvalue: 34.9974\n",
      "Step 19 current estimated top eigvalue: 34.9974\n",
      "Step 20 current estimated top eigvalue: 34.9974\n",
      "Step 21 current estimated top eigvalue: 34.9974\n",
      "Step 22 current estimated top eigvalue: 34.9974\n",
      "Step 23 current estimated top eigvalue: 34.9974\n",
      "Step 24 current estimated top eigvalue: 34.9974\n",
      "Step 25 current estimated top eigvalue: 34.9974\n",
      "Step 26 current estimated top eigvalue: 34.9974\n",
      "Step 27 current estimated top eigvalue: 34.9974\n",
      "Step 28 current estimated top eigvalue: 34.9974\n",
      "Step 29 current estimated top eigvalue: 34.9974\n",
      "Step 30 current estimated top eigvalue: 34.9974\n",
      "Step 31 current estimated top eigvalue: 34.9974\n",
      "Step 32 current estimated top eigvalue: 34.9974\n",
      "Step 33 current estimated top eigvalue: 34.9974\n",
      "Step 34 current estimated top eigvalue: 34.9974\n",
      "Step 35 current estimated top eigvalue: 34.9974\n",
      "Step 36 current estimated top eigvalue: 34.9974\n",
      "Step 37 current estimated top eigvalue: 34.9974\n",
      "Step 38 current estimated top eigvalue: 34.9974\n",
      "Step 39 current estimated top eigvalue: 34.9974\n",
      "Step 40 current estimated top eigvalue: 34.9974\n",
      "Finished Power Iteration\n",
      "\n",
      "Ground Truth Top Eigenvalue: 34.9974\n",
      "Result with matrix-free Power Iteration: 34.9974\n"
     ]
    }
   ],
   "source": [
    "# use power iteration to get the top eigenvalue of B\n",
    "v = np.random.randn(n, 1)\n",
    "for i in range(40):\n",
    "    v = v / np.linalg.norm(v)\n",
    "    eig_power_iteration = v.T @ B @ v\n",
    "    print(\"Step %2d current estimated top eigvalue: %.4f\"%(i+1,eig_power_iteration))\n",
    "    v = B @ v\n",
    "print(\"Finished Power Iteration\\n\")\n",
    "print(\"Ground Truth Top Eigenvalue: %.4f\"%np.sort(eigs)[-1])\n",
    "print(\"Result with matrix-free Power Iteration: %.4f\"%eig_power_iteration)"
   ]
  },
  {
   "cell_type": "markdown",
   "metadata": {},
   "source": [
    "As you can see the result of the power iteration and the one we got from numpy match very well.\n",
    "\n",
    "We can apply the same techinique for neural networks as well, and in particular use it to compute eigenvalues of Hessian!\n",
    "\n",
    "Importantly there has been a lot of misconception that we can not use Hessian for real world applications since\n",
    "we need to explicitly form it. Next you will see that this is not correct."
   ]
  },
  {
   "cell_type": "markdown",
   "metadata": {},
   "source": [
    "## Example 2: Power Iteration for NN Hessian"
   ]
  },
  {
   "cell_type": "code",
   "execution_count": 22,
   "metadata": {},
   "outputs": [],
   "source": [
    "model = torch.load(\"../runs/ethan_config_name_sgd/best_weights.pth\")"
   ]
  },
  {
   "cell_type": "code",
   "execution_count": 23,
   "metadata": {},
   "outputs": [
    {
     "data": {
      "text/plain": [
       "Sequential(\n",
       "  (0): Linear(in_features=256, out_features=512, bias=True)\n",
       "  (1): ELU(alpha=1.0)\n",
       "  (2): Linear(in_features=512, out_features=512, bias=True)\n",
       "  (3): ELU(alpha=1.0)\n",
       "  (4): Linear(in_features=512, out_features=1, bias=True)\n",
       "  (5): Tanh()\n",
       ")"
      ]
     },
     "execution_count": 23,
     "metadata": {},
     "output_type": "execute_result"
    }
   ],
   "source": [
    "# get the model \n",
    "# model = ptcv_get_model(\"resnet20_cifar10\", pretrained=True)\n",
    "# change the model to eval mode to disable running stats upate\n",
    "model.eval()\n",
    "\n"
   ]
  },
  {
   "cell_type": "code",
   "execution_count": 40,
   "metadata": {},
   "outputs": [],
   "source": [
    "import os\n",
    "import copy"
   ]
  },
  {
   "cell_type": "code",
   "execution_count": 25,
   "metadata": {},
   "outputs": [],
   "source": [
    "class NumpyDataset(torch.utils.data.Dataset):\n",
    "    def __init__(self, dataset_prefix, dataset_name, mode):\n",
    "        self.X = np.load(os.path.join(dataset_prefix, dataset_name, f\"{mode}X.npy\"))\n",
    "        self.Y = np.load(os.path.join(dataset_prefix, dataset_name, f\"{mode}Y.npy\"))\n",
    "\n",
    "    def __len__(self):\n",
    "        return len(self.X)\n",
    "\n",
    "    def __getitem__(self, idx):\n",
    "        return self.X[idx].astype(\"float32\"), self.Y[idx].astype(\"float32\")"
   ]
  },
  {
   "cell_type": "code",
   "execution_count": 28,
   "metadata": {},
   "outputs": [],
   "source": [
    "train_dataset = NumpyDataset(\"../datasets\", \"ethan_test_dataset\", \"train\")\n",
    "train_loader = torch.utils.data.DataLoader(\n",
    "    train_dataset,\n",
    "    batch_size=len(train_dataset),\n",
    "    shuffle=False,\n",
    "    num_workers=4\n",
    ")"
   ]
  },
  {
   "cell_type": "code",
   "execution_count": 29,
   "metadata": {},
   "outputs": [],
   "source": [
    "# create loss function\n",
    "# criterion = torch.nn.CrossEntropyLoss()\n",
    "criterion = torch.nn.MSELoss()\n",
    "\n",
    "# get dataset \n",
    "# train_loader, test_loader = getData()\n",
    "\n",
    "# for illustrate, we only use one batch to do the tutorial\n",
    "for inputs, targets in train_loader:\n",
    "    break\n",
    "\n",
    "# we use cuda to make the computation fast\n",
    "model = model.cuda()\n",
    "inputs, targets = inputs.cuda(), targets.cuda()"
   ]
  },
  {
   "cell_type": "code",
   "execution_count": 30,
   "metadata": {},
   "outputs": [],
   "source": [
    "# create the hessian computation module\n",
    "hessian_comp = hessian(model, criterion, data=(inputs, targets), cuda=True)"
   ]
  },
  {
   "cell_type": "code",
   "execution_count": 31,
   "metadata": {},
   "outputs": [
    {
     "name": "stdout",
     "output_type": "stream",
     "text": [
      "The top Hessian eigenvalue of this model is 49.7866\n"
     ]
    }
   ],
   "source": [
    "# Now let's compute the top eigenvalue. This only takes a few seconds.\n",
    "top_eigenvalues, top_eigenvector = hessian_comp.eigenvalues()\n",
    "print(\"The top Hessian eigenvalue of this model is %.4f\"%top_eigenvalues[-1])"
   ]
  },
  {
   "cell_type": "code",
   "execution_count": 32,
   "metadata": {},
   "outputs": [
    {
     "name": "stdout",
     "output_type": "stream",
     "text": [
      "The top two eigenvalues of this model are: 0.3727 49.7774\n"
     ]
    }
   ],
   "source": [
    "# Now let's compute the top 2 eigenavlues and eigenvectors of the Hessian\n",
    "top_eigenvalues, top_eigenvector = hessian_comp.eigenvalues(top_n=2)\n",
    "print(\"The top two eigenvalues of this model are: %.4f %.4f\"% (top_eigenvalues[-1],top_eigenvalues[-2]))"
   ]
  },
  {
   "cell_type": "markdown",
   "metadata": {},
   "source": [
    "The small difference between this top eigenvalue (195.4954) and the previous one (195.5897) is due to the small number of iterations that we used in Power iteration. You can remove this small difference by increasing the number of iterations for power iteration."
   ]
  },
  {
   "cell_type": "markdown",
   "metadata": {},
   "source": [
    "## Example 2.1: Plot Loss Landscape\n",
    "\n",
    "We can use the Hessian eigenvectors/eigenvalues to analyze the flat/sharpness of the loss landscape of your model, and plot the loss landscape. We will show that this can be more informative than using random directions.\n",
    "\n",
    "To plot the loss landscape, we first compute the top Hessian eigenvector and then perturb the model parameters along that direction and measure the loss."
   ]
  },
  {
   "cell_type": "code",
   "execution_count": 42,
   "metadata": {},
   "outputs": [],
   "source": [
    "# get the top eigenvector\n",
    "top_eigenvalues, top_eigenvector = hessian_comp.eigenvalues()"
   ]
  },
  {
   "cell_type": "code",
   "execution_count": 43,
   "metadata": {},
   "outputs": [],
   "source": [
    "# This is a simple function, that will allow us to perturb the model paramters and get the result\n",
    "def get_params(model_orig,  model_perb, direction, alpha):\n",
    "    for m_orig, m_perb, d in zip(model_orig.parameters(), model_perb.parameters(), direction):\n",
    "        m_perb.data = m_orig.data + alpha * d\n",
    "    return model_perb"
   ]
  },
  {
   "cell_type": "code",
   "execution_count": 44,
   "metadata": {},
   "outputs": [
    {
     "data": {
      "text/plain": [
       "Text(0.5, 1.0, 'Loss landscape perturbed based on top Hessian eigenvector')"
      ]
     },
     "execution_count": 44,
     "metadata": {},
     "output_type": "execute_result"
    },
    {
     "data": {
      "image/png": "[encoded data removed]",
      "text/plain": [
       "<Figure size 432x288 with 1 Axes>"
      ]
     },
     "metadata": {
      "needs_background": "light"
     },
     "output_type": "display_data"
    }
   ],
   "source": [
    "# lambda is a small scalar that we use to perturb the model parameters along the eigenvectors \n",
    "lams = np.linspace(-0.5, 0.5, 21).astype(np.float32)\n",
    "\n",
    "loss_list = []\n",
    "\n",
    "# create a copy of the model\n",
    "model_perb = copy.deepcopy(model)\n",
    "model_perb.eval()\n",
    "model_perb = model_perb.cuda()\n",
    "\n",
    "for lam in lams:\n",
    "    model_perb = get_params(model, model_perb, top_eigenvector[0], lam)\n",
    "    loss_list.append(criterion(model_perb(inputs), targets).item())\n",
    "\n",
    "plt.plot(lams, loss_list)\n",
    "plt.ylabel('Loss')\n",
    "plt.xlabel('Perturbation')\n",
    "plt.title('Loss landscape perturbed based on top Hessian eigenvector')"
   ]
  },
  {
   "cell_type": "markdown",
   "metadata": {},
   "source": [
    "Now let's compare this with a loss landscape computed based on perturbing the model parameters along a random direction."
   ]
  },
  {
   "cell_type": "code",
   "execution_count": 50,
   "metadata": {},
   "outputs": [
    {
     "data": {
      "text/plain": [
       "Text(0.5, 1.0, 'Loss landscape perturbed based on a random direction')"
      ]
     },
     "execution_count": 50,
     "metadata": {},
     "output_type": "execute_result"
    },
    {
     "data": {
      "image/png": "[encoded data removed]",
      "text/plain": [
       "<Figure size 432x288 with 1 Axes>"
      ]
     },
     "metadata": {
      "needs_background": "light"
     },
     "output_type": "display_data"
    }
   ],
   "source": [
    "from pyhessian.utils import normalization\n",
    "\n",
    "# generate random vector to do the loss plot\n",
    "\n",
    "v = [torch.randn_like(p) for p in model.parameters()]\n",
    "v = normalization(v)\n",
    "\n",
    "\n",
    "# used to perturb your model \n",
    "lams = np.linspace(-0.5, 0.5, 21).astype(np.float32)\n",
    "\n",
    "loss_list = []\n",
    "\n",
    "# create a copy of the model\n",
    "model_perb = copy.deepcopy(model)\n",
    "model_perb.eval()\n",
    "model_perb = model_perb.cuda()\n",
    "\n",
    "for lam in lams: \n",
    "    model_perb = get_params(model, model_perb, v, lam)\n",
    "    loss_list.append(criterion(model_perb(inputs), targets).item())\n",
    "\n",
    "plt.plot(lams, loss_list)\n",
    "plt.ylabel('Loss')\n",
    "plt.xlabel('Perturbation')\n",
    "plt.title('Loss landscape perturbed based on a random direction')"
   ]
  },
  {
   "cell_type": "markdown",
   "metadata": {},
   "source": [
    "Note how different the loss landscape looks. In particular note that there is almost no change in the loss value (see the small scale of the y-axis). This is expected, since for a converged NN, many of the directions are typically degenarate (i.e. they are flat)."
   ]
  },
  {
   "cell_type": "markdown",
   "metadata": {},
   "source": [
    "We can also use gradient direction to perturb the model. While gradient is better than random vector, but it is not possible to use it to plot 3D loss landscape since you will need more than one direction. However, you can use top 2 Hessian vectors instead for that scenario."
   ]
  },
  {
   "cell_type": "code",
   "execution_count": 53,
   "metadata": {},
   "outputs": [
    {
     "data": {
      "text/plain": [
       "Text(0.5, 1.0, 'Loss landscape perturbed based on gradient direction')"
      ]
     },
     "execution_count": 53,
     "metadata": {},
     "output_type": "execute_result"
    },
    {
     "data": {
      "image/png": "[encoded data removed]",
      "text/plain": [
       "<Figure size 432x288 with 1 Axes>"
      ]
     },
     "metadata": {
      "needs_background": "light"
     },
     "output_type": "display_data"
    }
   ],
   "source": [
    "from pyhessian.utils import normalization\n",
    "\n",
    "\n",
    "# used to perturb your model \n",
    "lams = np.linspace(-0.5, 0.5, 21).astype(np.float32)\n",
    "\n",
    "loss_list = []\n",
    "\n",
    "# create a copy of the model\n",
    "model_perb = copy.deepcopy(model)\n",
    "model_perb.eval()\n",
    "model_perb = model_perb.cuda()\n",
    "\n",
    "# generate gradient vector to do the loss plot\n",
    "loss = criterion(model_perb(inputs), targets)\n",
    "loss.backward()\n",
    "\n",
    "v = [p.grad.data for p in model_perb.parameters()]\n",
    "v = normalization(v)\n",
    "model_perb.zero_grad()\n",
    "\n",
    "\n",
    "for lam in lams: \n",
    "    model_perb = get_params(model, model_perb, v, lam)\n",
    "    loss_list.append(criterion(model_perb(inputs), targets).item())\n",
    "\n",
    "plt.plot(lams, loss_list)\n",
    "plt.ylabel('Loss')\n",
    "plt.xlabel('Perturbation')\n",
    "plt.title('Loss landscape perturbed based on gradient direction')"
   ]
  },
  {
   "cell_type": "markdown",
   "metadata": {},
   "source": [
    "## Example 3: Hessian Trace/Diagonal\n",
    "We can also use randomized linear algebra to compute Hessian trace or approximate the Hessian diagonal with very little computational overhead. Let's first start with a numpy example, and then we will show results for a NN."
   ]
  },
  {
   "cell_type": "code",
   "execution_count": 54,
   "metadata": {},
   "outputs": [],
   "source": [
    "n = 1000 # the matrix size\n",
    "\n",
    "# generate the matrix\n",
    "A = np.random.randn(n, n)\n",
    "B = A @ A.T"
   ]
  },
  {
   "cell_type": "code",
   "execution_count": 55,
   "metadata": {},
   "outputs": [
    {
     "name": "stdout",
     "output_type": "stream",
     "text": [
      "The trace of B is: 999569.0582\n"
     ]
    }
   ],
   "source": [
    "# Direct get the trace \n",
    "trace_B_np = np.matrix.trace(B)\n",
    "print(\"The trace of B is: %.4f\"%trace_B_np)"
   ]
  },
  {
   "cell_type": "markdown",
   "metadata": {},
   "source": [
    "We can approximate the above by using Hutchinson Method. It is very similar to power iteration:\n",
    "\n",
    "$$Tr(B) = \\mathbb{E}[v^TBv],$$\n",
    "$$Diag(B) = \\mathbb{E}[v \\bigodot Bv].$$\n",
    "\n",
    "It can be proved that the above expectation converges with smallest variance to the trace if we use Rademacher random numbers (+/-1). In practice you can also use Gaussian random vectors as well."
   ]
  },
  {
   "cell_type": "code",
   "execution_count": 56,
   "metadata": {},
   "outputs": [
    {
     "name": "stdout",
     "output_type": "stream",
     "text": [
      "Step 01, Current estimated trace: 1012730.1 relative error: 1.3e-02\n",
      "Step 02, Current estimated trace: 969195.6 relative error: -3.0e-02\n",
      "Step 03, Current estimated trace: 980009.5 relative error: -2.0e-02\n",
      "Step 04, Current estimated trace: 986782.1 relative error: -1.3e-02\n",
      "Step 05, Current estimated trace: 997236.9 relative error: -2.3e-03\n",
      "Step 06, Current estimated trace: 1000391.2 relative error: 8.2e-04\n",
      "Step 07, Current estimated trace: 998465.0 relative error: -1.1e-03\n",
      "Step 08, Current estimated trace: 996203.8 relative error: -3.4e-03\n",
      "Step 09, Current estimated trace: 987930.3 relative error: -1.2e-02\n",
      "Step 10, Current estimated trace: 995155.0 relative error: -4.4e-03\n",
      "Step 11, Current estimated trace: 994518.3 relative error: -5.1e-03\n",
      "Step 12, Current estimated trace: 995054.3 relative error: -4.5e-03\n",
      "Step 13, Current estimated trace: 991306.8 relative error: -8.3e-03\n",
      "Step 14, Current estimated trace: 994292.1 relative error: -5.3e-03\n",
      "Step 15, Current estimated trace: 996083.6 relative error: -3.5e-03\n",
      "Step 16, Current estimated trace: 997109.1 relative error: -2.5e-03\n",
      "Step 17, Current estimated trace: 1001581.4 relative error: 2.0e-03\n",
      "Step 18, Current estimated trace: 995357.6 relative error: -4.2e-03\n",
      "Step 19, Current estimated trace: 996887.8 relative error: -2.7e-03\n",
      "Step 20, Current estimated trace: 998151.6 relative error: -1.4e-03\n"
     ]
    }
   ],
   "source": [
    "# use Hutchinson method to get the trace of B\n",
    "trace_list = []\n",
    "\n",
    "for i in range(20):\n",
    "    v = np.random.randint(2, size=n) \n",
    "    v = v.reshape(n, 1) * 2 - 1 # Create Rademacher random numbers\n",
    "    trace_list.append(v.T @ B @ v)\n",
    "    trace_B_hutchinson = np.mean(trace_list)\n",
    "    print(\"Step %.2d, Current estimated trace: %.1f relative error: %.1e\"\n",
    "          %(i+1, trace_B_hutchinson, (trace_B_hutchinson - trace_B_np) / trace_B_np))"
   ]
  },
  {
   "cell_type": "markdown",
   "metadata": {},
   "source": [
    "As you can see we can get a very accurate estimate of the trace. Next let's try to approximate the diagonal of B using the matrix-free Hutchinson's method."
   ]
  },
  {
   "cell_type": "code",
   "execution_count": 57,
   "metadata": {},
   "outputs": [
    {
     "name": "stdout",
     "output_type": "stream",
     "text": [
      "Step 01, the current average relative error 7.9e-01:\n",
      "Step 02, the current average relative error 5.5e-01:\n",
      "Step 03, the current average relative error 4.6e-01:\n",
      "Step 04, the current average relative error 3.9e-01:\n",
      "Step 05, the current average relative error 3.6e-01:\n",
      "Step 06, the current average relative error 3.1e-01:\n",
      "Step 07, the current average relative error 3.0e-01:\n",
      "Step 08, the current average relative error 2.8e-01:\n",
      "Step 09, the current average relative error 2.6e-01:\n",
      "Step 10, the current average relative error 2.5e-01:\n",
      "Step 11, the current average relative error 2.4e-01:\n",
      "Step 12, the current average relative error 2.3e-01:\n",
      "Step 13, the current average relative error 2.2e-01:\n",
      "Step 14, the current average relative error 2.1e-01:\n",
      "Step 15, the current average relative error 2.0e-01:\n",
      "Step 16, the current average relative error 1.9e-01:\n",
      "Step 17, the current average relative error 1.9e-01:\n",
      "Step 18, the current average relative error 1.9e-01:\n",
      "Step 19, the current average relative error 1.8e-01:\n",
      "Step 20, the current average relative error 1.8e-01:\n"
     ]
    }
   ],
   "source": [
    "# use Hutchinson method to get the diag of B\n",
    "diag_est = np.zeros([n, 1])\n",
    "diag_B_np = np.diag(B)\n",
    "for i in range(20):\n",
    "    v = np.random.randint(2, size=n)\n",
    "    v = v.reshape(n, 1) * 2 - 1\n",
    "    diag_est += np.multiply(v, (B @ v))\n",
    "    diag_est_err = np.mean(np.abs(diag_est.reshape(-1) / (i+1) - diag_B_np) / diag_B_np)\n",
    "    print(\"Step %.2d, the current average relative error %.1e:\"%(i+1,diag_est_err))"
   ]
  },
  {
   "cell_type": "markdown",
   "metadata": {},
   "source": [
    "Now let's repeate the above for computing the trace and diagonal of Hessian for ResNet20."
   ]
  },
  {
   "cell_type": "code",
   "execution_count": 58,
   "metadata": {},
   "outputs": [],
   "source": [
    "# # get the model \n",
    "# model = ptcv_get_model(\"resnet20_cifar10\", pretrained=True)\n",
    "# # change the model to eval mode to disable running stats upate\n",
    "# model.eval()\n",
    "\n",
    "# # create loss function\n",
    "# criterion = torch.nn.CrossEntropyLoss()\n",
    "\n",
    "# # get dataset \n",
    "# train_loader, test_loader = getData()\n",
    "\n",
    "# # for illustrate, we only use one batch to do the tutorial\n",
    "# for inputs, targets in train_loader:\n",
    "#     break\n",
    "\n",
    "# # we use cuda to make the computation fast\n",
    "# model = model.cuda()\n",
    "# inputs, targets = inputs.cuda(), targets.cuda()"
   ]
  },
  {
   "cell_type": "code",
   "execution_count": 59,
   "metadata": {},
   "outputs": [],
   "source": [
    "# create the hessian computation module\n",
    "hessian_comp = hessian(model, criterion, data=(inputs, targets), cuda=True)"
   ]
  },
  {
   "cell_type": "code",
   "execution_count": 60,
   "metadata": {},
   "outputs": [
    {
     "name": "stdout",
     "output_type": "stream",
     "text": [
      "The trace of this model is: 50.5628\n"
     ]
    }
   ],
   "source": [
    "trace = hessian_comp.trace()\n",
    "print(\"The trace of this model is: %.4f\"%(np.mean(trace)))"
   ]
  },
  {
   "cell_type": "markdown",
   "metadata": {},
   "source": [
    "We can also get the full eigenvalue spectrum density of Hessian using Stochastic Lancoz algorithm."
   ]
  },
  {
   "cell_type": "code",
   "execution_count": 65,
   "metadata": {},
   "outputs": [],
   "source": [
    "density_eigen, density_weight = hessian_comp.density()"
   ]
  },
  {
   "cell_type": "code",
   "execution_count": 67,
   "metadata": {},
   "outputs": [
    {
     "data": {
      "image/png": "[encoded data removed]",
      "text/plain": [
       "<Figure size 432x288 with 1 Axes>"
      ]
     },
     "metadata": {
      "needs_background": "light"
     },
     "output_type": "display_data"
    }
   ],
   "source": [
    "get_esd_plot(density_eigen, density_weight)\n",
    "\n"
   ]
  },
  {
   "cell_type": "markdown",
   "metadata": {},
   "source": [
    "The above ESD plot is very interesting and shows that a lot of the eigenvalues of the Hessian are close to zero. This means that a lot of the directions along the loss landscape is almost flat. We expect this based on the loss landscape that we got above when we used a random direction. Another interesting observation is that there are several large Hessian outliers. The other very interesting finding, is that there are a lot of directions with slight negative curvature. This means that we still have not converged to a perfect local minimum that satisfies first and second order optimality conditions."
   ]
  },
  {
   "cell_type": "code",
   "execution_count": null,
   "metadata": {},
   "outputs": [],
   "source": []
  }
 ],
 "metadata": {
  "kernelspec": {
   "display_name": "landscape",
   "language": "python",
   "name": "landscape"
  },
  "language_info": {
   "codemirror_mode": {
    "name": "ipython",
    "version": 3
   },
   "file_extension": ".py",
   "mimetype": "text/x-python",
   "name": "python",
   "nbconvert_exporter": "python",
   "pygments_lexer": "ipython3",
   "version": "3.8.2"
  }
 },
 "nbformat": 4,
 "nbformat_minor": 4
}
